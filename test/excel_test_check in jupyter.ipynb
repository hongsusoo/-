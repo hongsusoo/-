{
 "cells": [
  {
   "cell_type": "code",
   "execution_count": 9,
   "metadata": {},
   "outputs": [],
   "source": [
    "import pandas as pd\n",
    "\n",
    "df = pd.read_excel(\"C:/코린이/04. 개인 프로젝트/01.angle_price/자료/test.xlsx\",sheet_name = \"a\")\n",
    "\n",
    "df_m=df.drop(5)\n",
    "df_m.to_excel(\"C:/코린이/04. 개인 프로젝트/01.angle_price/자료/test2.xlsx\",sheet_name=\"b\")\n",
    "\n"
   ]
  },
  {
   "cell_type": "code",
   "execution_count": 1,
   "metadata": {},
   "outputs": [
    {
     "ename": "SystemExit",
     "evalue": "0",
     "output_type": "error",
     "traceback": [
      "An exception has occurred, use %tb to see the full traceback.\n",
      "\u001b[1;31mSystemExit\u001b[0m\u001b[1;31m:\u001b[0m 0\n"
     ]
    },
    {
     "name": "stderr",
     "output_type": "stream",
     "text": [
      "C:\\Users\\hyhgo\\anaconda3\\lib\\site-packages\\IPython\\core\\interactiveshell.py:3339: UserWarning: To exit: use 'exit', 'quit', or Ctrl-D.\n",
      "  warn(\"To exit: use 'exit', 'quit', or Ctrl-D.\", stacklevel=1)\n"
     ]
    }
   ],
   "source": [
    "import sys\n",
    "from PyQt5.QtWidgets import QApplication, QWidget, QLabel, QLineEdit,QLabel, QPushButton, QVBoxLayout,QWidget, QFileDialog,QGridLayout\n",
    "from PyQt5.QtGui import QPixmap\n",
    "from PyQt5 import QtGui, QtCore\n",
    "from PyQt5.QtGui import QCursor\n",
    "\n",
    "\n",
    "widgets = {\n",
    "    \"logo\" : [],\n",
    "    \"button\" : [],\n",
    "    \"score\" : [],\n",
    "    \"question\" : [],\n",
    "    \"answer1\" : [],\n",
    "    \"answer2\" : [],\n",
    "    \"answer3\" : [],\n",
    "    \"answer4\" : []\n",
    "}\n",
    "\n",
    "app = QApplication(sys.argv)\n",
    "window = QWidget()\n",
    "window.setWindowTitle(\"who wants to be a programmer???\")\n",
    "window.setFixedWidth(1000)\n",
    "window.setStyleSheet(\"background : #363239;\")\n",
    "\n",
    "grid = QGridLayout()\n",
    "\n",
    "def create_buttons(answer, l_margin, r_margin):\n",
    "    btn = QPushButton(answer)\n",
    "    btn.setCursor(QCursor(QtCore.Qt.PointingHandCursor))\n",
    "    btn.setFixedWidth(485)\n",
    "    btn.setStyleSheet(\n",
    "        \"*{border: 4px solid '#BC006C';\"+\n",
    "        \"margin-left: \"+str(l_margin)+\"px;\"+\n",
    "        \"margin-right: \"+str(r_margin)+\"px;\"+\n",
    "        \"border-radius : 25px;\"+\n",
    "        \"font-family : 'shanti';\"+\n",
    "        \"font-size: 16px;\"+\n",
    "        \"color:'white';\"+\n",
    "        \"padding: 15px 0;\"+\n",
    "        \"margin-top: 20px;}\"+\n",
    "        \"*:hover{background: '#BC006C';}\"\n",
    "    )\n",
    "\n",
    "    return btn\n",
    "\n",
    "def frame1():\n",
    "\n",
    "    btn1 = QPushButton(\"PLAY\")\n",
    "    # img = QPixmap(\"C:/코린이/04. 개인 프로젝트/01.angle_price/youtube.png\")\n",
    "    btn1.setCursor(QCursor(QtCore.Qt.PointingHandCursor))\n",
    "    btn1.setStyleSheet(\"*{border: 4px solid '#BC006C';\"+\n",
    "                       \"border-radius : 45px;\"+\n",
    "                       \"font-size: 35px;\"+\n",
    "                       \"color:'white';\"+\n",
    "                       \"padding: 25px 0;\"+\n",
    "                       \"margin: 10px 200px;}\"+\n",
    "                       \"*:hover{background: 'white';}\" +\n",
    "                       \"image:url(C:/코린이/04. 개인 프로젝트/01.angle_price/dog.jpg);\")\n",
    "    widgets[\"button\"].append(btn1)\n",
    "    \n",
    "    grid.addWidget(widgets[\"button\"][-1],0,0)\n",
    "# frame1()\n",
    "\n",
    "def frame2():\n",
    "    score = QLabel(\"80\")\n",
    "    score.setAlignment(QtCore.Qt.AlignRight)\n",
    "    score.setStyleSheet(\n",
    "        \"font-size: 25px;\"+\n",
    "        \"color: 'white';\"+\n",
    "        \"padding: 25px 20px 0px 20px;\"+\n",
    "        \"margin: 20px 200px;\"+\n",
    "        \"background: '#64A314';\"+\n",
    "        \"border: 1px solid '#64A314';\"+\n",
    "        \"border-radius: 45px;\"\n",
    "    )\n",
    "    widgets[\"score\"].append(score)\n",
    "\n",
    "    question = QLabel(\"Placeholder text will go here blah blah blah blah blah blah blah blah blah blah blah blah\")\n",
    "    question.setAlignment(QtCore.Qt.AlignCenter)\n",
    "    question.setWordWrap(True)\n",
    "    question.setStyleSheet(\n",
    "        \"font-family: Shanti;\"+\n",
    "        \"font-size: 25px;\"+\n",
    "        \"color:'white';\"+\n",
    "        \"padding:75px;\"\n",
    "    )\n",
    "    widgets[\"question\"].append(question)\n",
    "    \n",
    "    button1 = create_buttons(\"answer1\",85,5)\n",
    "    button2 = create_buttons(\"answer2\",5,85)\n",
    "    button3 = create_buttons(\"answer3\",85,5)\n",
    "    button4 = create_buttons(\"answer4\",5,85)\n",
    "    \n",
    "    widgets[\"answer1\"].append(button1)\n",
    "    widgets[\"answer2\"].append(button2)\n",
    "    widgets[\"answer3\"].append(button3)\n",
    "    widgets[\"answer4\"].append(button4)\n",
    "    \n",
    "    \n",
    "    grid.addWidget(widgets[\"score\"][-1],0,1)\n",
    "    grid.addWidget(widgets[\"question\"][-1],1,0,1,2)\n",
    "    grid.addWidget(widgets[\"answer1\"][-1],2,0)\n",
    "    grid.addWidget(widgets[\"answer2\"][-1],2,1)\n",
    "    grid.addWidget(widgets[\"answer3\"][-1],3,0)\n",
    "    grid.addWidget(widgets[\"answer4\"][-1],3,1)\n",
    "\n",
    "    \n",
    "frame2()\n",
    "\n",
    "window.setLayout(grid)\n",
    "\n",
    "window.show()\n",
    "sys.exit(app.exec())\n"
   ]
  },
  {
   "cell_type": "code",
   "execution_count": 3,
   "metadata": {
    "scrolled": true
   },
   "outputs": [
    {
     "ename": "TypeError",
     "evalue": "onChanged() missing 1 required positional argument: 'text'",
     "output_type": "error",
     "traceback": [
      "\u001b[1;31m---------------------------------------------------------------------------\u001b[0m",
      "\u001b[1;31mTypeError\u001b[0m                                 Traceback (most recent call last)",
      "\u001b[1;32m<ipython-input-3-b8e79a10a03f>\u001b[0m in \u001b[0;36m<module>\u001b[1;34m\u001b[0m\n\u001b[0;32m     23\u001b[0m         \u001b[0mself\u001b[0m\u001b[1;33m.\u001b[0m\u001b[0mlb1\u001b[0m\u001b[1;33m.\u001b[0m\u001b[0madjustSize\u001b[0m\u001b[1;33m(\u001b[0m\u001b[1;33m)\u001b[0m\u001b[1;33m\u001b[0m\u001b[1;33m\u001b[0m\u001b[0m\n\u001b[0;32m     24\u001b[0m \u001b[0ma\u001b[0m \u001b[1;33m=\u001b[0m \u001b[0mlineEditApp\u001b[0m\u001b[1;33m(\u001b[0m\u001b[1;33m)\u001b[0m\u001b[1;33m\u001b[0m\u001b[1;33m\u001b[0m\u001b[0m\n\u001b[1;32m---> 25\u001b[1;33m \u001b[0mprint\u001b[0m\u001b[1;33m(\u001b[0m\u001b[0ma\u001b[0m\u001b[1;33m.\u001b[0m\u001b[0monChanged\u001b[0m\u001b[1;33m(\u001b[0m\u001b[1;33m)\u001b[0m\u001b[1;33m)\u001b[0m\u001b[1;33m\u001b[0m\u001b[1;33m\u001b[0m\u001b[0m\n\u001b[0m\u001b[0;32m     26\u001b[0m \u001b[1;33m\u001b[0m\u001b[0m\n\u001b[0;32m     27\u001b[0m \u001b[1;32mif\u001b[0m \u001b[0m__name__\u001b[0m \u001b[1;33m==\u001b[0m \u001b[1;34m'__main__'\u001b[0m\u001b[1;33m:\u001b[0m\u001b[1;33m\u001b[0m\u001b[1;33m\u001b[0m\u001b[0m\n",
      "\u001b[1;31mTypeError\u001b[0m: onChanged() missing 1 required positional argument: 'text'"
     ]
    }
   ],
   "source": [
    "import sys\n",
    "from PyQt5.QtWidgets import QApplication, QWidget, QLabel, QLineEdit\n",
    "\n",
    "class lineEditApp(QWidget):\n",
    "    def __init__(self):\n",
    "        super().__init__()\n",
    "        self.initUI()\n",
    "\n",
    "    def initUI(self):\n",
    "        self.lb1 = QLabel(self)\n",
    "        self.lb1.move(10,20)\n",
    "\n",
    "        qle = QLineEdit(self)\n",
    "        qle.move(10,60)\n",
    "        qle.textChanged[str].connect(self.onChanged)\n",
    "\n",
    "        self.setWindowTitle('라인 에디트')\n",
    "        self.setGeometry(500, 500, 200, 100)\n",
    "        self.show()\n",
    "\n",
    "    def onChanged(self, text):\n",
    "        self.lb1.setText(text)\n",
    "        self.lb1.adjustSize()\n",
    "        \n",
    "if __name__ == '__main__':\n",
    "    app = QApplication(sys.argv)\n",
    "    ax = lineEditApp()\n",
    "    sys.exit(app.exec_())"
   ]
  },
  {
   "cell_type": "code",
   "execution_count": 4,
   "metadata": {},
   "outputs": [
    {
     "name": "stdout",
     "output_type": "stream",
     "text": [
      "['C:\\\\Users\\\\hyhgo\\\\anaconda3\\\\lib\\\\site-packages\\\\ipykernel_launcher.py', '-f', 'C:\\\\Users\\\\hyhgo\\\\AppData\\\\Roaming\\\\jupyter\\\\runtime\\\\kernel-d60507ec-6ac4-4708-bbe9-8331b422bf1d.json']\n"
     ]
    }
   ],
   "source": [
    "import sys\n",
    "\n",
    "print(sys.argv)"
   ]
  }
 ],
 "metadata": {
  "kernelspec": {
   "display_name": "Python 3",
   "language": "python",
   "name": "python3"
  },
  "language_info": {
   "codemirror_mode": {
    "name": "ipython",
    "version": 3
   },
   "file_extension": ".py",
   "mimetype": "text/x-python",
   "name": "python",
   "nbconvert_exporter": "python",
   "pygments_lexer": "ipython3",
   "version": "3.7.6"
  }
 },
 "nbformat": 4,
 "nbformat_minor": 4
}
