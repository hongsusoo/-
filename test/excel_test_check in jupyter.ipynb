{
 "cells": [
  {
   "cell_type": "code",
   "execution_count": 57,
   "metadata": {},
   "outputs": [
    {
     "name": "stdout",
     "output_type": "stream",
     "text": [
      "         앵글     판매가      원가\n",
      "0    420 청색  1900.0  1100.0\n",
      "2    620 청색  2700.0  1550.0\n",
      "3  620 아이보리  2900.0  1650.0\n",
      "4    630 청색  3600.0  2100.0\n",
      "5       NaN     NaN     NaN\n",
      "6       NaN     NaN     1.7\n",
      "         앵글     판매가      원가\n",
      "0    420 청색  1900.0  1100.0\n",
      "1  420 아이보리  2000.0  1150.0\n",
      "2    620 청색  2700.0  1550.0\n",
      "3  620 아이보리  2900.0  1650.0\n",
      "4    630 청색  3600.0  2100.0\n",
      "5       NaN     NaN     NaN\n",
      "6       NaN     NaN     1.7\n"
     ]
    }
   ],
   "source": [
    "import pandas as pd\n",
    "\n",
    "df = pd.read_excel(\"C:/코린이/04. 개인 프로젝트/01.angle_price/data/test.xlsx\",sheet_name = \"a\")\n",
    "print(df.drop(index=[1],axis=0))\n",
    "print(df)\n"
   ]
  },
  {
   "cell_type": "code",
   "execution_count": 1,
   "metadata": {},
   "outputs": [
    {
     "name": "stdout",
     "output_type": "stream",
     "text": [
      "<PyQt5.QtWidgets.QLineEdit object at 0x0000024CA5D69DC8>\n"
     ]
    },
    {
     "ename": "SystemExit",
     "evalue": "0",
     "output_type": "error",
     "traceback": [
      "An exception has occurred, use %tb to see the full traceback.\n",
      "\u001b[1;31mSystemExit\u001b[0m\u001b[1;31m:\u001b[0m 0\n"
     ]
    },
    {
     "name": "stderr",
     "output_type": "stream",
     "text": [
      "C:\\Users\\hyhgo\\anaconda3\\lib\\site-packages\\IPython\\core\\interactiveshell.py:3339: UserWarning: To exit: use 'exit', 'quit', or Ctrl-D.\n",
      "  warn(\"To exit: use 'exit', 'quit', or Ctrl-D.\", stacklevel=1)\n"
     ]
    }
   ],
   "source": [
    "import sys\n",
    "from PyQt5.QtWidgets import QApplication, QWidget, QLabel, QLineEdit,QLabel, QPushButton, QVBoxLayout,QWidget, QFileDialog,QGridLayout\n",
    "from PyQt5.QtGui import QPixmap\n",
    "from PyQt5 import QtGui, QtCore\n",
    "from PyQt5.QtGui import QCursor\n",
    "\n",
    "app = QApplication(sys.argv)\n",
    "window = QWidget()\n",
    "window.setWindowTitle(\"check\")\n",
    "window.setFixedWidth(1000)\n",
    "# window.setStyleSheet(\"background : #363239;\")\n",
    "grid = QGridLayout()\n",
    "\n",
    "l_edit = QLineEdit()\n",
    "l_edit.returnPressed.connect(press_text())\n",
    "print(l_edit)\n",
    "\n",
    "grid.addWidget(l_edit)\n",
    "\n",
    "window.setLayout(grid)\n",
    "window.show()\n",
    "sys.exit(app.exec())\n",
    "\n",
    "def press_text():\n",
    "    print()\n",
    "    \n",
    "    \n",
    "    "
   ]
  },
  {
   "cell_type": "code",
   "execution_count": 1,
   "metadata": {},
   "outputs": [
    {
     "ename": "SystemExit",
     "evalue": "0",
     "output_type": "error",
     "traceback": [
      "An exception has occurred, use %tb to see the full traceback.\n",
      "\u001b[1;31mSystemExit\u001b[0m\u001b[1;31m:\u001b[0m 0\n"
     ]
    },
    {
     "name": "stderr",
     "output_type": "stream",
     "text": [
      "C:\\Users\\hyhgo\\anaconda3\\lib\\site-packages\\IPython\\core\\interactiveshell.py:3339: UserWarning: To exit: use 'exit', 'quit', or Ctrl-D.\n",
      "  warn(\"To exit: use 'exit', 'quit', or Ctrl-D.\", stacklevel=1)\n"
     ]
    }
   ],
   "source": [
    "import sys\n",
    "from PyQt5.QtWidgets import QApplication, QWidget, QLabel, QLineEdit,QLabel, QPushButton, QVBoxLayout,QWidget, QFileDialog,QGridLayout\n",
    "from PyQt5.QtGui import QPixmap\n",
    "from PyQt5 import QtGui, QtCore\n",
    "from PyQt5.QtGui import QCursor\n",
    "\n",
    "\n",
    "widgets = {\n",
    "    \"logo\" : [],\n",
    "    \"button\" : [],\n",
    "    \"score\" : [],\n",
    "    \"question\" : [],\n",
    "    \"answer1\" : [],\n",
    "    \"answer2\" : [],\n",
    "    \"answer3\" : [],\n",
    "    \"answer4\" : []\n",
    "}\n",
    "\n",
    "app = QApplication(sys.argv)\n",
    "window = QWidget()\n",
    "window.setWindowTitle(\"who wants to be a programmer???\")\n",
    "window.setFixedWidth(1000)\n",
    "window.setStyleSheet(\"background : #363239;\")\n",
    "\n",
    "grid = QGridLayout()\n",
    "\n",
    "def create_buttons(answer, l_margin, r_margin):\n",
    "    btn = QPushButton(answer)\n",
    "    btn.setCursor(QCursor(QtCore.Qt.PointingHandCursor))\n",
    "    btn.setFixedWidth(485)\n",
    "    btn.setStyleSheet(\n",
    "        \"*{border: 4px solid '#BC006C';\"+\n",
    "        \"margin-left: \"+str(l_margin)+\"px;\"+\n",
    "        \"margin-right: \"+str(r_margin)+\"px;\"+\n",
    "        \"border-radius : 25px;\"+\n",
    "        \"font-family : 'shanti';\"+\n",
    "        \"font-size: 16px;\"+\n",
    "        \"color:'white';\"+\n",
    "        \"padding: 15px 0;\"+\n",
    "        \"margin-top: 20px;}\"+\n",
    "        \"*:hover{background: '#BC006C';}\"\n",
    "    )\n",
    "\n",
    "    return btn\n",
    "\n",
    "def frame1():\n",
    "\n",
    "    btn1 = QPushButton(\"PLAY\")\n",
    "    # img = QPixmap(\"C:/코린이/04. 개인 프로젝트/01.angle_price/youtube.png\")\n",
    "    btn1.setCursor(QCursor(QtCore.Qt.PointingHandCursor))\n",
    "    btn1.setStyleSheet(\"*{border: 4px solid '#BC006C';\"+\n",
    "                       \"border-radius : 45px;\"+\n",
    "                       \"font-size: 35px;\"+\n",
    "                       \"color:'white';\"+\n",
    "                       \"padding: 25px 0;\"+\n",
    "                       \"margin: 10px 200px;}\"+\n",
    "                       \"*:hover{background: 'white';}\" +\n",
    "                       \"image:url(C:/코린이/04. 개인 프로젝트/01.angle_price/dog.jpg);\")\n",
    "    widgets[\"button\"].append(btn1)\n",
    "    \n",
    "    grid.addWidget(widgets[\"button\"][-1],0,0)\n",
    "# frame1()\n",
    "\n",
    "def frame2():\n",
    "    score = QLabel(\"80\")\n",
    "    score.setAlignment(QtCore.Qt.AlignRight)\n",
    "    score.setStyleSheet(\n",
    "        \"font-size: 25px;\"+\n",
    "        \"color: 'white';\"+\n",
    "        \"padding: 25px 20px 0px 20px;\"+\n",
    "        \"margin: 20px 200px;\"+\n",
    "        \"background: '#64A314';\"+\n",
    "        \"border: 1px solid '#64A314';\"+\n",
    "        \"border-radius: 45px;\"\n",
    "    )\n",
    "    widgets[\"score\"].append(score)\n",
    "\n",
    "    question = QLabel(\"Placeholder text will go here blah blah blah blah blah blah blah blah blah blah blah blah\")\n",
    "    question.setAlignment(QtCore.Qt.AlignCenter)\n",
    "    question.setWordWrap(True)\n",
    "    question.setStyleSheet(\n",
    "        \"font-family: Shanti;\"+\n",
    "        \"font-size: 25px;\"+\n",
    "        \"color:'white';\"+\n",
    "        \"padding:75px;\"\n",
    "    )\n",
    "    widgets[\"question\"].append(question)\n",
    "    \n",
    "    button1 = create_buttons(\"answer1\",85,5)\n",
    "    button2 = create_buttons(\"answer2\",5,85)\n",
    "    button3 = create_buttons(\"answer3\",85,5)\n",
    "    button4 = create_buttons(\"answer4\",5,85)\n",
    "    \n",
    "    widgets[\"answer1\"].append(button1)\n",
    "    widgets[\"answer2\"].append(button2)\n",
    "    widgets[\"answer3\"].append(button3)\n",
    "    widgets[\"answer4\"].append(button4)\n",
    "    \n",
    "    \n",
    "    grid.addWidget(widgets[\"score\"][-1],0,1)\n",
    "    grid.addWidget(widgets[\"question\"][-1],1,0,1,2)\n",
    "    grid.addWidget(widgets[\"answer1\"][-1],2,0)\n",
    "    grid.addWidget(widgets[\"answer2\"][-1],2,1)\n",
    "    grid.addWidget(widgets[\"answer3\"][-1],3,0)\n",
    "    grid.addWidget(widgets[\"answer4\"][-1],3,1)\n",
    "\n",
    "    \n",
    "frame2()\n",
    "\n",
    "window.setLayout(grid)\n",
    "window.show()\n",
    "sys.exit(app.exec())\n"
   ]
  },
  {
   "cell_type": "code",
   "execution_count": 3,
   "metadata": {
    "scrolled": true
   },
   "outputs": [
    {
     "ename": "TypeError",
     "evalue": "onChanged() missing 1 required positional argument: 'text'",
     "output_type": "error",
     "traceback": [
      "\u001b[1;31m---------------------------------------------------------------------------\u001b[0m",
      "\u001b[1;31mTypeError\u001b[0m                                 Traceback (most recent call last)",
      "\u001b[1;32m<ipython-input-3-b8e79a10a03f>\u001b[0m in \u001b[0;36m<module>\u001b[1;34m\u001b[0m\n\u001b[0;32m     23\u001b[0m         \u001b[0mself\u001b[0m\u001b[1;33m.\u001b[0m\u001b[0mlb1\u001b[0m\u001b[1;33m.\u001b[0m\u001b[0madjustSize\u001b[0m\u001b[1;33m(\u001b[0m\u001b[1;33m)\u001b[0m\u001b[1;33m\u001b[0m\u001b[1;33m\u001b[0m\u001b[0m\n\u001b[0;32m     24\u001b[0m \u001b[0ma\u001b[0m \u001b[1;33m=\u001b[0m \u001b[0mlineEditApp\u001b[0m\u001b[1;33m(\u001b[0m\u001b[1;33m)\u001b[0m\u001b[1;33m\u001b[0m\u001b[1;33m\u001b[0m\u001b[0m\n\u001b[1;32m---> 25\u001b[1;33m \u001b[0mprint\u001b[0m\u001b[1;33m(\u001b[0m\u001b[0ma\u001b[0m\u001b[1;33m.\u001b[0m\u001b[0monChanged\u001b[0m\u001b[1;33m(\u001b[0m\u001b[1;33m)\u001b[0m\u001b[1;33m)\u001b[0m\u001b[1;33m\u001b[0m\u001b[1;33m\u001b[0m\u001b[0m\n\u001b[0m\u001b[0;32m     26\u001b[0m \u001b[1;33m\u001b[0m\u001b[0m\n\u001b[0;32m     27\u001b[0m \u001b[1;32mif\u001b[0m \u001b[0m__name__\u001b[0m \u001b[1;33m==\u001b[0m \u001b[1;34m'__main__'\u001b[0m\u001b[1;33m:\u001b[0m\u001b[1;33m\u001b[0m\u001b[1;33m\u001b[0m\u001b[0m\n",
      "\u001b[1;31mTypeError\u001b[0m: onChanged() missing 1 required positional argument: 'text'"
     ]
    }
   ],
   "source": [
    "import sys\n",
    "from PyQt5.QtWidgets import QApplication, QWidget, QLabel, QLineEdit\n",
    "\n",
    "class lineEditApp(QWidget):\n",
    "    def __init__(self):\n",
    "        super().__init__()\n",
    "        self.initUI()\n",
    "\n",
    "    def initUI(self):\n",
    "        self.lb1 = QLabel(self)\n",
    "        self.lb1.move(10,20)\n",
    "\n",
    "        qle = QLineEdit(self)\n",
    "        qle.move(10,60)\n",
    "        qle.textChanged[str].connect(self.onChanged)\n",
    "\n",
    "        self.setWindowTitle('라인 에디트')\n",
    "        self.setGeometry(500, 500, 200, 100)\n",
    "        self.show()\n",
    "\n",
    "    def onChanged(self, text):\n",
    "        self.lb1.setText(text)\n",
    "        self.lb1.adjustSize()\n",
    "        \n",
    "if __name__ == '__main__':\n",
    "    app = QApplication(sys.argv)\n",
    "    ax = lineEditApp()\n",
    "    sys.exit(app.exec_())"
   ]
  },
  {
   "cell_type": "code",
   "execution_count": 4,
   "metadata": {},
   "outputs": [
    {
     "name": "stdout",
     "output_type": "stream",
     "text": [
      "['C:\\\\Users\\\\hyhgo\\\\anaconda3\\\\lib\\\\site-packages\\\\ipykernel_launcher.py', '-f', 'C:\\\\Users\\\\hyhgo\\\\AppData\\\\Roaming\\\\jupyter\\\\runtime\\\\kernel-d60507ec-6ac4-4708-bbe9-8331b422bf1d.json']\n"
     ]
    }
   ],
   "source": [
    "import sys\n",
    "\n",
    "print(sys.argv)"
   ]
  },
  {
   "cell_type": "code",
   "execution_count": null,
   "metadata": {},
   "outputs": [],
   "source": [
    "import sys\n",
    "from PyQt5.QtWidgets import QMainWindow, \\\n",
    "    QPushButton, QApplication, QTextEdit, QFontDialog, \\\n",
    "    QMessageBox, QInputDialog\n",
    "from PyQt5.QtCore import pyqtSlot\n",
    "\n",
    "\n",
    "class MainWindow(QMainWindow):\n",
    "    def __init__(self):\n",
    "        super().__init__()\n",
    "        # 윈도우 설정\n",
    "        self.setGeometry(300, 300, 500, 300)  # x, y, w, h\n",
    "        self.setWindowTitle('Status Window')\n",
    "\n",
    "        #  에서 선택한 값 표시\n",
    "        self.texedit = QTextEdit(self)\n",
    "        self.texedit.setGeometry(10, 10, 300, 200)\n",
    "\n",
    "        # QTextEdit 에서 값 가져와 알람 다이얼로그 띄우기\n",
    "        self.pb_alert = QPushButton('데이터 가져오기', self)\n",
    "        self.pb_alert.clicked.connect(self.alert_view)\n",
    "        self.pb_alert.setGeometry(320, 50, 150, 30)\n",
    "\n",
    "        # QTextEdit 에 들어가 있는 값 뒤에 붙이기\n",
    "        self.pb_text = QPushButton('데이터 붙이기', self)\n",
    "        self.pb_text.clicked.connect(self.append_text)\n",
    "        self.pb_text.setGeometry(320, 90, 150, 30)\n",
    "\n",
    "    # ComboBox 선택 이벤트\n",
    "    @pyqtSlot()\n",
    "    def change_font(self):\n",
    "        font, ok = QFontDialog.getFont(self)\n",
    "        if ok:\n",
    "            self.texedit.setFont(font)\n",
    "\n",
    "    # 메시지박스에 QTextEdit 에서 입력한 값 표현\n",
    "    @pyqtSlot()\n",
    "    def alert_view(self):\n",
    "        data = self.texedit.toPlainText()\n",
    "        msbox = QMessageBox()\n",
    "        msbox.setText(data)\n",
    "        msbox.exec_()\n",
    "\n",
    "    # QTextEdit 꼬리에 데이터를 추가\n",
    "    @pyqtSlot()\n",
    "    def append_text(self):\n",
    "        print('append text call')\n",
    "        input_dialog, ok = QInputDialog.getText(self, 'Input Dialog', 'data')\n",
    "        if ok:\n",
    "            self.texedit.append(str(input_dialog))\n",
    "\n",
    "if __name__ == '__main__':\n",
    "    app = QApplication(sys.argv)\n",
    "    mainWindow = MainWindow()\n",
    "    mainWindow.show()\n",
    "    sys.exit(app.exec_())"
   ]
  }
 ],
 "metadata": {
  "kernelspec": {
   "display_name": "Python 3",
   "language": "python",
   "name": "python3"
  },
  "language_info": {
   "codemirror_mode": {
    "name": "ipython",
    "version": 3
   },
   "file_extension": ".py",
   "mimetype": "text/x-python",
   "name": "python",
   "nbconvert_exporter": "python",
   "pygments_lexer": "ipython3",
   "version": "3.7.6"
  }
 },
 "nbformat": 4,
 "nbformat_minor": 4
}
