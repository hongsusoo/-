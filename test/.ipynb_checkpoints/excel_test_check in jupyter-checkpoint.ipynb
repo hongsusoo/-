{
 "cells": [
  {
   "cell_type": "code",
   "execution_count": 9,
   "metadata": {},
   "outputs": [],
   "source": [
    "import pandas as pd\n",
    "\n",
    "df = pd.read_excel(\"C:/코린이/04. 개인 프로젝트/01.angle_price/자료/test.xlsx\",sheet_name = \"a\")\n",
    "\n",
    "df_m=df.drop(5)\n",
    "df_m.to_excel(\"C:/코린이/04. 개인 프로젝트/01.angle_price/자료/test2.xlsx\",sheet_name=\"b\")\n",
    "\n"
   ]
  },
  {
   "cell_type": "code",
   "execution_count": 1,
   "metadata": {},
   "outputs": [
    {
     "ename": "SystemExit",
     "evalue": "0",
     "output_type": "error",
     "traceback": [
      "An exception has occurred, use %tb to see the full traceback.\n",
      "\u001b[1;31mSystemExit\u001b[0m\u001b[1;31m:\u001b[0m 0\n"
     ]
    },
    {
     "name": "stderr",
     "output_type": "stream",
     "text": [
      "C:\\Users\\hyhgo\\anaconda3\\lib\\site-packages\\IPython\\core\\interactiveshell.py:3339: UserWarning: To exit: use 'exit', 'quit', or Ctrl-D.\n",
      "  warn(\"To exit: use 'exit', 'quit', or Ctrl-D.\", stacklevel=1)\n"
     ]
    }
   ],
   "source": [
    "import sys\n",
    "from PyQt5.QtWidgets import QApplication, QWidget, QLabel, QLineEdit,QLabel, QPushButton, QVBoxLayout,QWidget, QFileDialog,QGridLayout\n",
    "from PyQt5.QtGui import QPixmap\n",
    "from PyQt5 import QtGui, QtCore\n",
    "from PyQt5.QtGui import QCursor\n",
    "\n",
    "widgets = {\n",
    "    \"logo\" : [],\n",
    "    \"button\" : []\n",
    "}\n",
    "\n",
    "app = QApplication(sys.argv)\n",
    "window = QWidget()\n",
    "window.setWindowTitle(\"who wants to be a programmer???\")\n",
    "window.setFixedWidth(1000)\n",
    "window.setStyleSheet(\"background : #363239;\")\n",
    "\n",
    "grid = QGridLayout()\n",
    "\n",
    "def frame1():\n",
    "\n",
    "    btn1 = QPushButton(\"PLAY\")\n",
    "    # img = QPixmap(\"C:/코린이/04. 개인 프로젝트/01.angle_price/youtube.png\")\n",
    "    btn1.setCursor(QCursor(QtCore.Qt.PointingHandCursor))\n",
    "    btn1.setStyleSheet(\"*{border: 4px solid '#BC006C';\"+\n",
    "                       \"border-radius : 45px;\"+\n",
    "                       \"font-size: 35px;\"+\n",
    "                       \"color:'white';\"+\n",
    "                       \"padding: 25px 0;\"+\n",
    "                       \"margin: 10px 200px;}\"+\n",
    "                       \"*:hover{background: 'white';}\" +\n",
    "                       \"image:url(C:/코린이/04. 개인 프로젝트/01.angle_price/dog.jpg);\")\n",
    "    widgets[\"button\"].append(btn1)\n",
    "    \n",
    "    grid.addWidget(widgets[\"button\"[-1],0,0)\n",
    "frame1()\n",
    "window.setLayout(grid)\n",
    "\n",
    "window.show()\n",
    "sys.exit(app.exec())\n"
   ]
  },
  {
   "cell_type": "code",
   "execution_count": 3,
   "metadata": {
    "scrolled": true
   },
   "outputs": [
    {
     "ename": "TypeError",
     "evalue": "onChanged() missing 1 required positional argument: 'text'",
     "output_type": "error",
     "traceback": [
      "\u001b[1;31m---------------------------------------------------------------------------\u001b[0m",
      "\u001b[1;31mTypeError\u001b[0m                                 Traceback (most recent call last)",
      "\u001b[1;32m<ipython-input-3-b8e79a10a03f>\u001b[0m in \u001b[0;36m<module>\u001b[1;34m\u001b[0m\n\u001b[0;32m     23\u001b[0m         \u001b[0mself\u001b[0m\u001b[1;33m.\u001b[0m\u001b[0mlb1\u001b[0m\u001b[1;33m.\u001b[0m\u001b[0madjustSize\u001b[0m\u001b[1;33m(\u001b[0m\u001b[1;33m)\u001b[0m\u001b[1;33m\u001b[0m\u001b[1;33m\u001b[0m\u001b[0m\n\u001b[0;32m     24\u001b[0m \u001b[0ma\u001b[0m \u001b[1;33m=\u001b[0m \u001b[0mlineEditApp\u001b[0m\u001b[1;33m(\u001b[0m\u001b[1;33m)\u001b[0m\u001b[1;33m\u001b[0m\u001b[1;33m\u001b[0m\u001b[0m\n\u001b[1;32m---> 25\u001b[1;33m \u001b[0mprint\u001b[0m\u001b[1;33m(\u001b[0m\u001b[0ma\u001b[0m\u001b[1;33m.\u001b[0m\u001b[0monChanged\u001b[0m\u001b[1;33m(\u001b[0m\u001b[1;33m)\u001b[0m\u001b[1;33m)\u001b[0m\u001b[1;33m\u001b[0m\u001b[1;33m\u001b[0m\u001b[0m\n\u001b[0m\u001b[0;32m     26\u001b[0m \u001b[1;33m\u001b[0m\u001b[0m\n\u001b[0;32m     27\u001b[0m \u001b[1;32mif\u001b[0m \u001b[0m__name__\u001b[0m \u001b[1;33m==\u001b[0m \u001b[1;34m'__main__'\u001b[0m\u001b[1;33m:\u001b[0m\u001b[1;33m\u001b[0m\u001b[1;33m\u001b[0m\u001b[0m\n",
      "\u001b[1;31mTypeError\u001b[0m: onChanged() missing 1 required positional argument: 'text'"
     ]
    }
   ],
   "source": [
    "import sys\n",
    "from PyQt5.QtWidgets import QApplication, QWidget, QLabel, QLineEdit\n",
    "\n",
    "class lineEditApp(QWidget):\n",
    "    def __init__(self):\n",
    "        super().__init__()\n",
    "        self.initUI()\n",
    "\n",
    "    def initUI(self):\n",
    "        self.lb1 = QLabel(self)\n",
    "        self.lb1.move(10,20)\n",
    "\n",
    "        qle = QLineEdit(self)\n",
    "        qle.move(10,60)\n",
    "        qle.textChanged[str].connect(self.onChanged)\n",
    "\n",
    "        self.setWindowTitle('라인 에디트')\n",
    "        self.setGeometry(500, 500, 200, 100)\n",
    "        self.show()\n",
    "\n",
    "    def onChanged(self, text):\n",
    "        self.lb1.setText(text)\n",
    "        self.lb1.adjustSize()\n",
    "        \n",
    "if __name__ == '__main__':\n",
    "    app = QApplication(sys.argv)\n",
    "    ax = lineEditApp()\n",
    "    sys.exit(app.exec_())"
   ]
  },
  {
   "cell_type": "code",
   "execution_count": 4,
   "metadata": {},
   "outputs": [
    {
     "name": "stdout",
     "output_type": "stream",
     "text": [
      "['C:\\\\Users\\\\hyhgo\\\\anaconda3\\\\lib\\\\site-packages\\\\ipykernel_launcher.py', '-f', 'C:\\\\Users\\\\hyhgo\\\\AppData\\\\Roaming\\\\jupyter\\\\runtime\\\\kernel-d60507ec-6ac4-4708-bbe9-8331b422bf1d.json']\n"
     ]
    }
   ],
   "source": [
    "import sys\n",
    "\n",
    "print(sys.argv)"
   ]
  }
 ],
 "metadata": {
  "kernelspec": {
   "display_name": "Python 3",
   "language": "python",
   "name": "python3"
  }
 },
 "nbformat": 4,
 "nbformat_minor": 4
}
